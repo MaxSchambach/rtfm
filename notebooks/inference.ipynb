{
 "cells": [
  {
   "cell_type": "markdown",
   "source": [
    "# Inference with TabuLa-8B\n",
    "\n",
    "This notebook shows some example workflows of how to perform inference with TabuLa-8B. \n",
    "\n",
    "For best performance, this notebook should be run with access to a GPU.\n",
    "\n",
    "TabuLa-8B supports inference on zero- and few-shot tabular data (with the number of shots only limited by the context window of the model) and both categorical and continuous inputs. Below, we show examples of both. \n",
    "\n",
    "TabuLa's inference uses pandas DataFrames to construct examples for downstream inference. We directly construct Pandas DataFrames below, but you can also read DataFrames from CSV files or any other source that can be converted to DataFrame.\n",
    "\n",
    "**Note about evaluation with labeled data**: If you only want to perform efficient evaluation on data that is already labeled (i.e. to assess the accuracy of TabuLa on your own dataset), we provide separate code to do this which is likely to be more performant than the code in this notebook (which is optimized for simplicity/usability, not performance). Please see the README in the main repo for instructions on how to prepare your data for evaluation with our eval pipeline. Note that that eval pipeline (not the code in this notebook) is also what was used to evaluate TabuLa-8B on our [paper](https://arxiv.org/abs/2406.12031)."
   ],
   "metadata": {
    "collapsed": false
   },
   "id": "9ae8598ee797839f"
  },
  {
   "cell_type": "markdown",
   "source": [
    "# Model loading and setup\n",
    "\n",
    "First, load the model and tokenizer. It is important to use the TabuLa tokenizer (not the base Llama 3 tokenizer) due to the special tokens used for serialization."
   ],
   "metadata": {
    "collapsed": false
   },
   "id": "14460216956d8859"
  },
  {
   "cell_type": "markdown",
   "source": [],
   "metadata": {
    "collapsed": false
   },
   "id": "ffc2832834a32c77"
  },
  {
   "cell_type": "code",
   "execution_count": 1,
   "id": "initial_id",
   "metadata": {
    "ExecuteTime": {
     "end_time": "2024-06-28T20:04:12.934625Z",
     "start_time": "2024-06-28T20:03:42.468103Z"
    }
   },
   "outputs": [
    {
     "name": "stderr",
     "output_type": "stream",
     "text": [
      "read user yaml files: 0it [00:00, ?it/s]\n",
      "/gscratch/efml/jpgard/miniconda3/envs/rtfm/lib/python3.8/site-packages/huggingface_hub/file_download.py:1132: FutureWarning: `resume_download` is deprecated and will be removed in version 1.0.0. Downloads always resume when possible. If you want to force a new download, use `force_download=True`.\n",
      "  warnings.warn(\n"
     ]
    },
    {
     "data": {
      "application/vnd.jupyter.widget-view+json": {
       "model_id": "7d8c3b1ad23b4f899ba3d05019ea754f",
       "version_major": 2,
       "version_minor": 0
      },
      "text/plain": [
       "Loading checkpoint shards:   0%|          | 0/7 [00:00<?, ?it/s]"
      ]
     },
     "metadata": {},
     "output_type": "display_data"
    },
    {
     "name": "stderr",
     "output_type": "stream",
     "text": [
      "Special tokens have been added in the vocabulary, make sure the associated word embeddings are fine-tuned or trained.\n",
      "WARNING:root:adding special tokens {} to vocab\n",
      "WARNING:root:adding tokens {'eoc_token': '<|endcompletion|>', 'qa_sep_token': '<|endinput|>', 'ans_choices_sep_token': '||'} to vocab (as special tokens=True\n"
     ]
    }
   ],
   "source": [
    "import pandas as pd\n",
    "import torch\n",
    "from transformers import AutoTokenizer, LlamaForCausalLM, AutoConfig\n",
    "\n",
    "from rtfm.configs import TrainConfig, TokenizerConfig\n",
    "from rtfm.inference_utils import InferenceModel\n",
    "from rtfm.serialization.serializers import get_serializer\n",
    "from rtfm.tokenization.text import prepare_tokenizer\n",
    "\n",
    "train_config = TrainConfig(model_name=\"mlfoundations/tabula-8b\", context_length=8192)\n",
    "\n",
    "# If using a base llama model (not fine-tuned TabuLa),\n",
    "# make sure to set add_serializer_tokens=False\n",
    "# (because we do not want to use special tokens for \n",
    "# the base model which is not trained on them).\n",
    "tokenizer_config = TokenizerConfig()\n",
    "\n",
    "# Load the configuration\n",
    "config = AutoConfig.from_pretrained(train_config.model_name)\n",
    "\n",
    "# Set the torch_dtype to bfloat16 which matches TabuLa train/eval setup\n",
    "config.torch_dtype = 'bfloat16'\n",
    "\n",
    "device = \"cuda\" if torch.cuda.is_available() else \"cpu\"\n",
    "\n",
    "model = LlamaForCausalLM.from_pretrained(\n",
    "    train_config.model_name, device_map=\"auto\", config=config).to(device)\n",
    "\n",
    "tokenizer = AutoTokenizer.from_pretrained(train_config.model_name)\n",
    "serializer = get_serializer(train_config.serializer_cls)\n",
    "\n",
    "tokenizer, model = prepare_tokenizer(\n",
    "    model,\n",
    "    tokenizer=tokenizer,\n",
    "    pretrained_model_name_or_path=train_config.model_name,\n",
    "    model_max_length=train_config.context_length,\n",
    "    use_fast_tokenizer=tokenizer_config.use_fast_tokenizer,\n",
    "    serializer_tokens_embed_fn=tokenizer_config.serializer_tokens_embed_fn,\n",
    "    serializer_tokens=serializer.special_tokens\n",
    "    if tokenizer_config.add_serializer_tokens\n",
    "    else None,\n",
    ")\n",
    "\n",
    "inference_model = InferenceModel(model=model, tokenizer=tokenizer, serializer=serializer)"
   ]
  },
  {
   "cell_type": "markdown",
   "source": [
    "# Creating your own data for inference\n",
    "\n",
    "If you simply want to explore the model, or would like to construct your own data for inference, you can simply construct DataFrames to represent the labeled examples (\"shots\"), if any are used, and the target example that you want to predict on.\n",
    "\n",
    "Below is an example.\n"
   ],
   "metadata": {
    "collapsed": false
   },
   "id": "d7eb7965984ae881"
  },
  {
   "cell_type": "code",
   "execution_count": 5,
   "id": "92fbaac767622695",
   "metadata": {
    "ExecuteTime": {
     "end_time": "2024-06-28T20:04:39.766837Z",
     "start_time": "2024-06-28T20:04:12.941752Z"
    },
    "collapsed": false
   },
   "outputs": [
    {
     "name": "stderr",
     "output_type": "stream",
     "text": [
      "WARNING:root:Column fitness_level is not in target example; got columns Index(['name', 'occupation', 'height_in_meters', 'weight_in_kg', 'bike'], dtype='object'). Adding a dummy placeholder with empty values for preprocessing. This behavior is expected if your target samples do not contain the target column at all.\n",
      "Setting `pad_token_id` to `eos_token_id`:128001 for open-end generation.\n"
     ]
    },
    {
     "name": "stdout",
     "output_type": "stream",
     "text": [
      "prediction is: excellent\n"
     ]
    }
   ],
   "source": [
    "labeled_examples = pd.DataFrame(\n",
    "    [\n",
    "        {\"location\": \"New York\", \"temperature\": 22, \"humidity\": 65, \"wind_speed\": 12, \"pressure\": 1012, \"month\": \"July\",\n",
    "         \"weather_yesterday\": \"Sunny\", \"precipitation\": 0, \"visibility\": 10, \"weather_today\": \"Partly Sunny\"},\n",
    "        {\"location\": \"Los Angeles\", \"temperature\": 26, \"humidity\": 60, \"wind_speed\": 7, \"pressure\": 1015,\n",
    "         \"month\": \"July\", \"weather_yesterday\": \"Partly Sunny\", \"precipitation\": 0, \"visibility\": 10, \"weather_today\": \"Sunny\"},\n",
    "        {\"location\": \"Chicago\", \"temperature\": 18, \"humidity\": 70, \"wind_speed\": 15, \"pressure\": 1008, \"month\": \"July\",\n",
    "         \"weather_yesterday\": \"Partly Cloudy\", \"precipitation\": 0.1, \"visibility\": 8, \"weather_today\": \"Cloudy\"},\n",
    "        {\"location\": \"Houston\", \"temperature\": 30, \"humidity\": 80, \"wind_speed\": 10, \"pressure\": 1010, \"month\": \"July\",\n",
    "         \"weather_yesterday\": \"Rain\", \"precipitation\": 0.5, \"visibility\": 7, \"weather_today\": \"Rain\"},\n",
    "        {\"location\": \"Phoenix\", \"temperature\": 35, \"humidity\": 20, \"wind_speed\": 5, \"pressure\": 1005, \"month\": \"July\",\n",
    "         \"weather_yesterday\": \"Sunny\", \"precipitation\": 0, \"visibility\": 10, \"weather_today\": \"Sunny\"},\n",
    "        {\"location\": \"Philadelphia\", \"temperature\": 24, \"humidity\": 75, \"wind_speed\": 14, \"pressure\": 1009,\n",
    "         \"month\": \"July\", \"weather_yesterday\": \"Partly Cloudy\", \"precipitation\": 0.2, \"visibility\": 9,\n",
    "         \"weather_today\": \"Partly Cloudy\"},\n",
    "        {\"location\": \"San Antonio\", \"temperature\": 28, \"humidity\": 68, \"wind_speed\": 11, \"pressure\": 1011,\n",
    "         \"month\": \"July\", \"weather_yesterday\": \"Rain\", \"precipitation\": 0.4, \"visibility\": 8, \"weather_today\": \"Rain\"},\n",
    "        {\"location\": \"San Diego\", \"temperature\": 22, \"humidity\": 65, \"wind_speed\": 10, \"pressure\": 1014,\n",
    "         \"month\": \"July\", \"weather_yesterday\": \"Sunny\", \"precipitation\": 0, \"visibility\": 10, \"weather_today\": \"Partly Sunny\"},\n",
    "        {\"location\": \"Dallas\", \"temperature\": 27, \"humidity\": 72, \"wind_speed\": 9, \"pressure\": 1007, \"month\": \"July\",\n",
    "         \"weather_yesterday\": \"Partly Cloudy\", \"precipitation\": 0.3, \"visibility\": 9, \"weather_today\": \"Cloudy\"},\n",
    "    ]\n",
    ")\n",
    "target_example = pd.DataFrame(\n",
    "    [\n",
    "        {\"location\": \"San Jose\", \"temperature\": 23, \"humidity\": 55, \"wind_speed\": 8, \"pressure\": 1013, \"month\": \"July\",\n",
    "         \"weather_yesterday\": \"Sunny\", \"precipitation\": 0, \"visibility\": 10, \"weather_today\": \"Sunny\"},\n",
    "    ]\n",
    ")\n",
    "\n",
    "output = inference_model.predict(\n",
    "    target_example=target_example,\n",
    "    target_colname=\"weather_today\",\n",
    "    target_choices=[\"Sunny\", \"Partly Sunny\", \"Cloudy\", \"Partly Cloudy\", \"Rain\"],\n",
    "    labeled_examples=labeled_examples,\n",
    ")\n",
    "print(f\"prediction for sample {target_example} is: {output}\")"
   ]
  },
  {
   "cell_type": "markdown",
   "source": [
    "# Prediction with continuous targets\n",
    "\n",
    "TabuLa-8B is also trained to perform prediction on continuous targets. This is handled by bucketing the continuous inputs and treating these as categorical labels. Besides this bucketization step, the procedure is otherwise identical.\n",
    "\n",
    "In order to ensure best performance, it is important to ensure that your serialization of the continuous targets matches exactly the expected format used during TabuLa's training.\n",
    "\n",
    "Note that here we'll process the examples together to ensure the discretization is applied correctly, before splitting into train/target samples."
   ],
   "metadata": {
    "collapsed": false
   },
   "id": "5697e998e9356e4"
  },
  {
   "cell_type": "code",
   "execution_count": null,
   "id": "dd6c86babaa9b907",
   "metadata": {
    "collapsed": false
   },
   "outputs": [],
   "source": [
    "from rtfm.serialization.serialization_utils import discretize_continuous_column\n",
    "\n",
    "examples = pd.DataFrame(\n",
    "    [\n",
    "    {\"location\": \"New York\", \"size_sqft\": 1200, \"bedrooms\": 3, \"bathrooms\": 2, \"age\": 10, \"lot_size_acres\": 0.15, \"garage\": True, \"price\": 850},\n",
    "    {\"location\": \"Los Angeles\", \"size_sqft\": 1500, \"bedrooms\": 4, \"bathrooms\": 3, \"age\": 8, \"lot_size_acres\": 0.25, \"garage\": True, \"price\": 950},\n",
    "    {\"location\": \"Chicago\", \"size_sqft\": 1300, \"bedrooms\": 3, \"bathrooms\": 2, \"age\": 15, \"lot_size_acres\": 0.2, \"garage\": False, \"price\": 700},\n",
    "    {\"location\": \"Houston\", \"size_sqft\": 1700, \"bedrooms\": 4, \"bathrooms\": 3, \"age\": 5, \"lot_size_acres\": 0.3, \"garage\": True, \"price\": 650},\n",
    "    {\"location\": \"Phoenix\", \"size_sqft\": 1600, \"bedrooms\": 3, \"bathrooms\": 2, \"age\": 7, \"lot_size_acres\": 0.25, \"garage\": True, \"price\": 750},\n",
    "    {\"location\": \"Philadelphia\", \"size_sqft\": 1400, \"bedrooms\": 3, \"bathrooms\": 2, \"age\": 12, \"lot_size_acres\": 0.18, \"garage\": False, \"price\": 600},\n",
    "    {\"location\": \"San Antonio\", \"size_sqft\": 1800, \"bedrooms\": 4, \"bathrooms\": 3, \"age\": 3, \"lot_size_acres\": 0.4, \"garage\": True, \"price\": 700},\n",
    "    {\"location\": \"San Diego\", \"size_sqft\": 1550, \"bedrooms\": 3, \"bathrooms\": 2, \"age\": 9, \"lot_size_acres\": 0.22, \"garage\": True, \"price\": 850},\n",
    "    {\"location\": \"Dallas\", \"size_sqft\": 1450, \"bedrooms\": 3, \"bathrooms\": 2, \"age\": 11, \"lot_size_acres\": 0.19, \"garage\": True, \"price\": 700},\n",
    "    {\"location\": \"San Jose\", \"size_sqft\": 1600, \"bedrooms\": 4, \"bathrooms\": 3, \"age\": 6, \"lot_size_acres\": 0.2, \"garage\": False, \"price\": 800},\n",
    "    {\"location\": \"Seattle\", \"size_sqft\": 1800, \"bedrooms\": 4, \"bathrooms\": 2, \"age\": 10, \"lot_size_acres\": 0.2, \"garage\": False, \"price\": 925},\n",
    "]\n",
    ")\n",
    "\n",
    "examples[\"price\"] = discretize_continuous_column(examples[\"price\"], num_buckets=4)\n",
    "target_choices = examples[\"price\"].unique().tolist()\n",
    "\n",
    "target_example = examples.iloc[[0]]\n",
    "labeled_examples = examples.iloc[1:]\n",
    "\n",
    "\n",
    "output = inference_model.predict(\n",
    "    target_example=target_example,\n",
    "    target_colname=\"price\",\n",
    "    target_choices=target_choices,\n",
    "    labeled_examples=labeled_examples,\n",
    ")\n",
    "print(f\"prediction for sample {target_example} is: {output}\")"
   ]
  },
  {
   "cell_type": "code",
   "execution_count": null,
   "id": "c7419e50-1aab-4afe-a821-5d60422e3b87",
   "metadata": {},
   "outputs": [],
   "source": []
  }
 ],
 "metadata": {
  "kernelspec": {
   "display_name": "Python 3 (ipykernel)",
   "language": "python",
   "name": "python3"
  },
  "language_info": {
   "codemirror_mode": {
    "name": "ipython",
    "version": 3
   },
   "file_extension": ".py",
   "mimetype": "text/x-python",
   "name": "python",
   "nbconvert_exporter": "python",
   "pygments_lexer": "ipython3",
   "version": "3.8.19"
  }
 },
 "nbformat": 4,
 "nbformat_minor": 5
}
